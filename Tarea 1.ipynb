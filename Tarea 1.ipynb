{
 "cells": [
  {
   "cell_type": "markdown",
   "metadata": {},
   "source": [
    "## Trabajo 1: Solución lineal de sistemas lineales en Julia\n",
    "\n",
    "* Objetivo:Comparar diferentes métodos de resolución de sistemas lineales de gran tamaño con un problema de EDP que genera matrices no simétricas en base a los parámetros N, α y ε=1\n",
    "\n",
    "$$\\beta \\cdot \\bigtriangledown u-\\epsilon \\bigtriangleup u=0 $$\n",
    "\n",
    "$$ \\beta =\\alpha (\\frac{\\sqrt{2}}{2},\\frac{\\sqrt{2}}{2})^T $$\n",
    "\n",
    "Contenido: utilizar el código en python (basado en el código Matlab de A. Meister, Aufgabe 6) y las librerías Julia de C.T. Kelley en https://github.com/ctkelley\n",
    "\n",
    "Metodología: realizar un notebook de jupyter en Julia con gráficas y tablas de errores y tiempos de cómputo en base a las iteraciones"
   ]
  },
  {
   "cell_type": "code",
   "execution_count": 31,
   "metadata": {},
   "outputs": [],
   "source": [
    "using LinearAlgebra\n",
    "using SparseArrays\n",
    "\n",
    "# Parameters\n",
    "a = 0.5;   # Advection parameter\n",
    "b = 2;     # Reaction parameter\n",
    "tol = 1e-6;    # Tolerance for stopping criterion\n",
    "maxit = 10000;  # Maximum number of iterations\n",
    "\n",
    "# Linear system\n",
    "N = 10;\n",
    "dx = 1 / (N + 1);\n",
    "\n",
    "e = ones(N);\n",
    "Dxx = spdiagm(-1 => e[1:N-1] , 0 => -2 * e  , 1 => e[1:N-1]);   # 1D central difference\n",
    "\n",
    "ident = Matrix{Float64}(I, N, N);\n",
    "x = kron(ident, Dxx) / (dx^2);  # 2nd derivative with respect to x\n",
    "\n",
    "Axx = kron(ident, Dxx) / (dx^2); # 2nd derivative with respect to x\n",
    "Ayy = kron(Dxx, ident) / (dx^2);  # 2nd derivative with respect to y\n",
    "\n",
    "Dx = spdiagm( -1 => e[1:N-1] , 1 => e[1:N-1]);  # 1D central difference\n",
    "Ax = kron(ident, Dx) / (2 * dx);\n",
    "\n",
    "I_2 = Matrix{Float64}(I, N*N, N*N);\n",
    "\n",
    "A = -Axx - Ayy - a * Ax - b * I_2;  # Matrix\n",
    "b = ones(N * N);  # Right-hand side\n",
    "u0 = 0.5 * ones(N * N);  # Initial guess"
   ]
  },
  {
   "cell_type": "markdown",
   "metadata": {},
   "source": [
    "1. Utilizar métodos directo LU y Choleski para matrices simétricas, y los métodos iterativos CG, BiCG , BiCGStab , GMRES , LGMRES, MINRES, QMR que encuentren en las librerías de Julia. Si encuentran otros , los aportan"
   ]
  },
  {
   "cell_type": "markdown",
   "metadata": {},
   "source": [
    "Metodos directos:"
   ]
  },
  {
   "cell_type": "markdown",
   "metadata": {},
   "source": [
    "a. LU"
   ]
  },
  {
   "cell_type": "code",
   "execution_count": 32,
   "metadata": {},
   "outputs": [],
   "source": [
    "using LinearAlgebra\n",
    "\n",
    "#Calcular descomposicion LU\n",
    "lu_decomposition = lu(A);\n",
    "L = lu_decomposition.L;\n",
    "U = lu_decomposition.U;\n",
    "P = lu_decomposition.p;"
   ]
  },
  {
   "cell_type": "markdown",
   "metadata": {},
   "source": [
    "b. Choleski"
   ]
  },
  {
   "cell_type": "code",
   "execution_count": 33,
   "metadata": {},
   "outputs": [],
   "source": [
    "using LinearAlgebra\n",
    "\n",
    "chol_decomposition=cholesky(A);\n",
    "L = chol_decomposition.L; "
   ]
  },
  {
   "cell_type": "markdown",
   "metadata": {},
   "source": [
    "Metodos iterativos:"
   ]
  },
  {
   "cell_type": "markdown",
   "metadata": {},
   "source": [
    "CG:"
   ]
  },
  {
   "cell_type": "code",
   "execution_count": 45,
   "metadata": {},
   "outputs": [
    {
     "name": "stdout",
     "output_type": "stream",
     "text": [
      "solucion:\n"
     ]
    },
    {
     "data": {
      "text/plain": [
       "100-element Vector{Float64}:\n",
       " 0.015132176191275281\n",
       " 0.02573483662399068\n",
       " 0.03312296138180865\n",
       " 0.03784904595323942\n",
       " 0.040162168491703884\n",
       " 0.04016216849170386\n",
       " 0.03784904595323944\n",
       " 0.03312296138180864\n",
       " 0.025734836623990676\n",
       " 0.015132176191275288\n",
       " ⋮\n",
       " 0.025734836623990665\n",
       " 0.03312296138180864\n",
       " 0.03784904595323943\n",
       " 0.04016216849170388\n",
       " 0.04016216849170388\n",
       " 0.037849045953239416\n",
       " 0.03312296138180865\n",
       " 0.02573483662399067\n",
       " 0.015132176191275281"
      ]
     },
     "metadata": {},
     "output_type": "display_data"
    }
   ],
   "source": [
    "using IterativeSolvers\n",
    "x=cg(A,b);\n",
    "println(\"solucion:\");\n",
    "x"
   ]
  },
  {
   "cell_type": "markdown",
   "metadata": {},
   "source": [
    "BiCG:"
   ]
  },
  {
   "cell_type": "code",
   "execution_count": 35,
   "metadata": {},
   "outputs": [],
   "source": [
    "using IterativeSolvers\n",
    "#x0=zeros(length(b));\n",
    "#bicg(A,b)"
   ]
  },
  {
   "cell_type": "markdown",
   "metadata": {},
   "source": [
    "BiCGStab"
   ]
  },
  {
   "cell_type": "code",
   "execution_count": 36,
   "metadata": {},
   "outputs": [],
   "source": [
    "using IterativeSolvers\n",
    "x=bicgstabl(A,b);"
   ]
  },
  {
   "cell_type": "markdown",
   "metadata": {},
   "source": [
    "GMRES"
   ]
  },
  {
   "cell_type": "code",
   "execution_count": 37,
   "metadata": {},
   "outputs": [],
   "source": [
    "using IterativeSolvers\n",
    "x=gmres(A,b);"
   ]
  },
  {
   "cell_type": "markdown",
   "metadata": {},
   "source": [
    "LGMRES"
   ]
  },
  {
   "cell_type": "code",
   "execution_count": 38,
   "metadata": {},
   "outputs": [],
   "source": []
  },
  {
   "cell_type": "markdown",
   "metadata": {},
   "source": [
    "MINRES"
   ]
  },
  {
   "cell_type": "code",
   "execution_count": 39,
   "metadata": {},
   "outputs": [],
   "source": []
  },
  {
   "cell_type": "markdown",
   "metadata": {},
   "source": [
    "QMR"
   ]
  },
  {
   "cell_type": "code",
   "execution_count": 40,
   "metadata": {},
   "outputs": [],
   "source": []
  },
  {
   "cell_type": "markdown",
   "metadata": {},
   "source": [
    "2. Utilizar escenarios de N y α en base a la presentación . Utilizar el mayor N possible con tiempos esperables menos de una hora)."
   ]
  },
  {
   "cell_type": "code",
   "execution_count": 41,
   "metadata": {},
   "outputs": [],
   "source": []
  },
  {
   "cell_type": "markdown",
   "metadata": {},
   "source": [
    "3. Calcular tiempos y errores en base a las iteraciones de los métodos iterativos y comparer con los métodos directos"
   ]
  },
  {
   "cell_type": "code",
   "execution_count": 42,
   "metadata": {},
   "outputs": [],
   "source": []
  },
  {
   "cell_type": "markdown",
   "metadata": {},
   "source": [
    "4. Analizar los resultados y decidir el métodos más rápido y preciso para cada escenario de N y αα."
   ]
  },
  {
   "cell_type": "code",
   "execution_count": 43,
   "metadata": {},
   "outputs": [],
   "source": []
  },
  {
   "cell_type": "markdown",
   "metadata": {},
   "source": [
    "5. Encontrar las propiedades de las matrices generadas por la linearización en redes neuronales y proponer qué método sería el major para problemas de alta dimensionalidad ."
   ]
  },
  {
   "cell_type": "code",
   "execution_count": 44,
   "metadata": {},
   "outputs": [],
   "source": []
  }
 ],
 "metadata": {
  "kernelspec": {
   "display_name": "Julia 1.9.3",
   "language": "julia",
   "name": "julia-1.9"
  },
  "language_info": {
   "file_extension": ".jl",
   "mimetype": "application/julia",
   "name": "julia",
   "version": "1.9.3"
  },
  "orig_nbformat": 4
 },
 "nbformat": 4,
 "nbformat_minor": 2
}
