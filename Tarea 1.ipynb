{
 "cells": [
  {
   "cell_type": "markdown",
   "metadata": {},
   "source": [
    "## Trabajo 1: Solución lineal de sistemas lineales en Julia\n",
    "\n",
    "* Objetivo:Comparar diferentes métodos de resolución de sistemas lineales de gran tamaño con un problema de EDP que genera matrices no simétricas en base a los parámetros N, α y ε=1\n",
    "\n",
    "$$\\beta \\cdot \\bigtriangledown u-\\epsilon \\bigtriangleup u=0 $$\n",
    "\n",
    "$$ \\beta =\\alpha (\\frac{\\sqrt{2}}{2},\\frac{\\sqrt{2}}{2})^T $$\n",
    "\n",
    "Contenido: utilizar el código en python (basado en el código Matlab de A. Meister, Aufgabe 6) y las librerías Julia de C.T. Kelley en https://github.com/ctkelley\n",
    "\n",
    "Metodología: realizar un notebook de jupyter en Julia con gráficas y tablas de errores y tiempos de cómputo en base a las iteraciones"
   ]
  },
  {
   "cell_type": "code",
   "execution_count": 27,
   "metadata": {},
   "outputs": [],
   "source": [
    "aux=false\n",
    "if aux==true\n",
    "    import Pkg\n",
    "    Pkg.add(\"IterativeSolvers\")\n",
    "    Pkg.add(\"LinearAlgebra\")\n",
    "    Pkg.add(\"SparseArrays\")\n",
    "end"
   ]
  },
  {
   "cell_type": "code",
   "execution_count": 28,
   "metadata": {},
   "outputs": [],
   "source": [
    "using LinearAlgebra\n",
    "using SparseArrays\n",
    "function Tarea1(N,a,b,tol,maxit)\n",
    "    dx = 1 / (N + 1);\n",
    "\n",
    "    e = ones(N);\n",
    "    Dxx = spdiagm(-1 => e[1:N-1] , 0 => -2 * e  , 1 => e[1:N-1]);   # 1D central difference\n",
    "\n",
    "    ident = Matrix{Float64}(I, N, N);\n",
    "    x = kron(ident, Dxx) / (dx^2);  # 2nd derivative with respect to x\n",
    "\n",
    "    Axx = kron(ident, Dxx) / (dx^2); # 2nd derivative with respect to x\n",
    "    Ayy = kron(Dxx, ident) / (dx^2);  # 2nd derivative with respect to y\n",
    "\n",
    "    Dx = spdiagm( -1 => e[1:N-1] , 1 => e[1:N-1]);  # 1D central difference\n",
    "    Ax = kron(ident, Dx) / (2 * dx);\n",
    "\n",
    "    I_2 = sparse(Matrix{Float64}(I, N*N, N*N));\n",
    "\n",
    "    A = -Axx - Ayy - a * Ax - b * I_2;  # Matrix\n",
    "    B = ones(N * N);  # Right-hand side\n",
    "    u0 = 0.5 * ones(N * N);  # Initial guess\n",
    "\n",
    "    return A, B, u0;\n",
    "end"
   ]
  },
  {
   "cell_type": "markdown",
   "metadata": {},
   "source": [
    "1. Utilizar métodos directo LU y Choleski para matrices simétricas, y los métodos iterativos CG, BiCG , BiCGStab , GMRES , LGMRES, MINRES, QMR que encuentren en las librerías de Julia. Si encuentran otros , los aportan"
   ]
  },
  {
   "cell_type": "markdown",
   "metadata": {},
   "source": [
    "Metodos directos:"
   ]
  },
  {
   "cell_type": "code",
   "execution_count": null,
   "metadata": {},
   "outputs": [],
   "source": [
    "import LinearAlgebra\n",
    "N=20; a=1 ; b=2 ; tol=1e-6 ; maxit=100000 ;\n",
    "A,b,u0 = Tarea1(N,a,b,tol,maxit);\n",
    "#Calcular descomposicion LU\n",
    "lu_decomposition = lu(A);\n",
    "L = lu_decomposition.L;U = lu_decomposition.U;P = lu_decomposition.p;\n",
    "#cholesky\n",
    "using LinearAlgebra\n",
    "#L_cholesky = cholesky(A);\n",
    "\n",
    "\n",
    "#Metodos Iterativos\n",
    "using IterativeSolvers\n",
    "#CG\n",
    "xcg,hcg=cg(A,b,log=true,maxiter=maxit);\n",
    "#bicgstab\n",
    "xbicgstabl,hbicgstabl=bicgstabl(A,b,log=true)\n",
    "#gmres\n",
    "xgmres,hgmres=gmres(A,b,log=true);\n",
    "#minres\n",
    "xminres,hminres = minres(A,b,log=true);\n",
    "#qmr\n",
    "xqmr,hqmr=qmr(A,b,log=true);\n",
    "\n",
    "#using KrylovKit\n",
    "#BiCG\n",
    "#xbicg,hbicg=bicg(A,b)\n",
    "\n",
    "#LGMRESusing\n",
    "#xlgmres,hgmres=lgmres(A,b,log=true)\n",
    "\n",
    "\n",
    "using Plots\n",
    "plot1 = plot(hcg,title=\"CG\")\n",
    "plot2 = plot(hbicgstabl,title=\"BiCGStabl\")\n",
    "plot3 = plot(hgmres,title=\"GMRES\")\n",
    "plot4 = plot(hminres,title=\"MinRES\")\n",
    "plot5 = plot(hqmr,title=\"QMR\")\n",
    "\n",
    "layout = @layout[a ; b ; c ; d ; e]\n",
    "\n",
    "plot(\n",
    "    plot1,\n",
    "    plot2,\n",
    "    plot3,\n",
    "    plot4,\n",
    "    plot5,\n",
    "    layout=layout,size=(1200,800)\n",
    ")\n",
    "print( [ typeof(xbicgstabl) , typeof(hbicgstabl)] ); println(\"\");"
   ]
  },
  {
   "cell_type": "markdown",
   "metadata": {},
   "source": [
    "**ConvergenceHistory keys**\n",
    "\n",
    "- `:tol` => `::Real`: stopping tolerance.\n",
    "- `:resnom` => `::Vector`: residual norm at each iteration.\n",
    "- `history.mvps`: number of matrix vector products.\n",
    "- `history.mtvps`: number of transposed matrix-vector products\n",
    "- `history.iters`: iterations taken by the method\n",
    "- `history.isconverged`: convergence of the method.\n",
    "- `history.data`:  Stores all the information stored during the method execution. It stores tolerances, residuals and other information."
   ]
  },
  {
   "cell_type": "markdown",
   "metadata": {},
   "source": [
    "2. Utilizar escenarios de N y α en base a la presentación . Utilizar el mayor N possible con tiempos esperables menos de una hora)."
   ]
  },
  {
   "cell_type": "code",
   "execution_count": null,
   "metadata": {},
   "outputs": [],
   "source": [
    "using IterativeSolvers\n",
    "# Parameters\n",
    "a = 3;   # Advection parameter\n",
    "b = 5;     # Reaction parameter\n",
    "tol = 1e-6;    # Tolerance for stopping criterion\n",
    "maxit = 100000;  # Maximum number of iterations\n",
    "n=[10,20,30,40];\n",
    "\n",
    "XCG=[]        ; HCG=[]       ;\n",
    "XBICGSTAB=[]  ; HBICGSTAB=[] ;\n",
    "XGMRES=[]     ; HGMRES=[]    ;\n",
    "XMINRES=[]    ; HMINRES=[]   ;\n",
    "XQMR=[]       ; HQMR=[]      ;\n",
    "\n",
    " for N in n\n",
    "   \n",
    "   A,B,u0 = Tarea1(N,a,b,tol,maxit);\n",
    "   #CG\n",
    "   xcg , hcg = cg(A,B,log=true,maxiter=maxit);\n",
    "   push!(XCG,xcg) ; push!(HCG,hcg);\n",
    "\n",
    "   #bicgstab\n",
    "   xbicgstab , hbicgstab = bicgstabl(A,B,log=true);\n",
    "   push!(XBICGSTAB,xbicgstab) ; push!(HBICGSTAB,hbicgstab);\n",
    "\n",
    "   #gmres\n",
    "   xgmres , hgmres = gmres(A,B,log=true);\n",
    "   push!(XGMRES,xgmres) ; push!(HGMRES,hgmres);\n",
    "   #minres\n",
    "   xminres , hminres = minres(A,B,log=true);\n",
    "   push!(XMINRES,xminres) ; push!(HMINRES,hminres);\n",
    "   #qmr\n",
    "   xqmr , hqmr = qmr(A,B,log=true);\n",
    "   push!(XQMR,xqmr) ; push!(HQMR,hqmr);\n",
    "\n",
    " end"
   ]
  },
  {
   "cell_type": "code",
   "execution_count": null,
   "metadata": {},
   "outputs": [],
   "source": [
    "using Plots\n",
    "\n",
    "metodos=[HCG,HBICGSTAB,HGMRES,HMINRES,HQMR];\n",
    "layout= @layout [a ; b ; c ; d ; e];\n",
    "p=plot(\n",
    "    layout=layout,\n",
    "    size=(1200,2500)\n",
    ")\n",
    "\n",
    "for (i,metodo) in enumerate(metodos)\n",
    "    for (j,valor) in enumerate(n)\n",
    "\n",
    "        aux=n[j]\n",
    "        label= \"N= $aux\"\n",
    "        x=[x for x in 1:length( metodo[i][j][:resnorm] )];\n",
    "        y=metodo[i][j][:resnorm];\n",
    "        plot!(p[i],x,y,label=label)        \n",
    "    end\n",
    "end"
   ]
  },
  {
   "cell_type": "code",
   "execution_count": null,
   "metadata": {},
   "outputs": [],
   "source": [
    "using Plots\n",
    "#metodos=[HCG,HBICGSTAB,HGMRES,HMINRES,HQMR]\n",
    "# plot1 = plot(hcg,title=\"CG\")\n",
    "plot1=plot()\n",
    "for (i,valor) in enumerate(n)\n",
    "    aux=n[i]\n",
    "    label= \"N= $aux\"\n",
    "    x=[x for x in 1:length(HCG[i][:resnorm])];\n",
    "    y=HCG[i][:resnorm];\n",
    "    plot!(x,y,label=label)\n",
    "end\n",
    "\n",
    "\n",
    "# plot2 = plot(hbicgstabl,title=\"BiCGStabl\")\n",
    "\n",
    "plot2=plot()\n",
    "for (i,valor) in enumerate(n)\n",
    "    aux=n[i]\n",
    "    label= \"N= $aux\"\n",
    "    x=[x for x in 1:length(HBICGSTAB[i][:resnorm])];\n",
    "    y=HCG[i][:resnorm];;\n",
    "    plot!(x,y,label=label)\n",
    "end\n",
    "\n",
    "# plot3 = plot(hgmres,title=\"GMRES\")\n",
    "plot3=plot()\n",
    "for (i,valor) in enumerate(n)\n",
    "    aux=n[i]\n",
    "    label= \"N= $aux\"\n",
    "    x=[x for x in 1:length(HGMRES[i][:resnorm])];\n",
    "    y=HGMRES[i][:resnorm];;\n",
    "    plot!(x,y,label=label)\n",
    "end\n",
    "\n",
    "# plot4 = plot(hminres,title=\"MinRES\")\n",
    "plot4=plot()\n",
    "for (i,valor) in enumerate(n)\n",
    "    aux=n[i]\n",
    "    label= \"N= $aux\"\n",
    "    x=[x for x in 1:length(HMINRES[i][:resnorm])];\n",
    "    y=HMINRES[i][:resnorm];;\n",
    "    plot!(x,y,label=label)\n",
    "end\n",
    "\n",
    "\n",
    "\n",
    "# plot5 = plot(hqmr,title=\"QMR\")\n",
    "plot5=plot()\n",
    "for (i,valor) in enumerate(n)\n",
    "    aux=n[i]\n",
    "    label= \"N= $aux\"\n",
    "    x=[x for x in 1:length(HQMR[i][:resnorm])];\n",
    "    y=HQMR[i][:resnorm];;\n",
    "    plot!(x,y,label=label)\n",
    "end\n",
    "\n",
    "layout = @layout[a ; b ; c ; d ; e]\n",
    "\n",
    "plot(\n",
    "    plot1,\n",
    "    plot2,\n",
    "    plot3,\n",
    "    plot4,\n",
    "    plot5,\n",
    "    layout=layout,size=(1200,2500)\n",
    ")"
   ]
  },
  {
   "cell_type": "markdown",
   "metadata": {},
   "source": [
    "3. Calcular tiempos y errores en base a las iteraciones de los métodos iterativos y comparar con los métodos directos"
   ]
  },
  {
   "cell_type": "code",
   "execution_count": null,
   "metadata": {},
   "outputs": [],
   "source": []
  },
  {
   "cell_type": "markdown",
   "metadata": {},
   "source": [
    "4. Analizar los resultados y decidir el métodos más rápido y preciso para cada escenario de N y α."
   ]
  },
  {
   "cell_type": "code",
   "execution_count": null,
   "metadata": {},
   "outputs": [],
   "source": []
  },
  {
   "cell_type": "markdown",
   "metadata": {},
   "source": [
    "5. Encontrar las propiedades de las matrices generadas por la linearización en redes neuronales y proponer qué método sería el major para problemas de alta dimensionalidad ."
   ]
  },
  {
   "cell_type": "code",
   "execution_count": null,
   "metadata": {},
   "outputs": [],
   "source": [
    "\n"
   ]
  }
 ],
 "metadata": {
  "kernelspec": {
   "display_name": "Julia 1.9.3",
   "language": "julia",
   "name": "julia-1.9"
  },
  "language_info": {
   "file_extension": ".jl",
   "mimetype": "application/julia",
   "name": "julia",
   "version": "1.9.3"
  },
  "orig_nbformat": 4
 },
 "nbformat": 4,
 "nbformat_minor": 2
}
