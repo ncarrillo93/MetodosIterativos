{
 "cells": [
  {
   "cell_type": "markdown",
   "metadata": {},
   "source": [
    "## Trabajo 1: Solución lineal de sistemas lineales en Julia\n",
    "\n",
    "* Objetivo:Comparar diferentes métodos de resolución de sistemas lineales de gran tamaño con un problema de EDP que genera matrices no simétricas en base a los parámetros N, α y ε=1\n",
    "\n",
    "$$\\beta \\cdot \\bigtriangledown u-\\epsilon \\bigtriangleup u=0 $$\n",
    "\n",
    "$$ \\beta =\\alpha (\\frac{\\sqrt{2}}{2},\\frac{\\sqrt{2}}{2})^T $$\n",
    "\n",
    "Contenido: utilizar el código en python (basado en el código Matlab de A. Meister, Aufgabe 6) y las librerías Julia de C.T. Kelley en https://github.com/ctkelley\n",
    "\n",
    "Metodología: realizar un notebook de jupyter en Julia con gráficas y tablas de errores y tiempos de cómputo en base a las iteraciones"
   ]
  },
  {
   "cell_type": "code",
   "execution_count": 15,
   "metadata": {},
   "outputs": [],
   "source": [
    "using LinearAlgebra\n",
    "using SparseArrays\n",
    "\n",
    "# Parameters\n",
    "a = 0.5;   # Advection parameter\n",
    "b = 2;     # Reaction parameter\n",
    "tol = 1e-6;    # Tolerance for stopping criterion\n",
    "maxit = 100000;  # Maximum number of iterations\n",
    "\n",
    "# Linear system\n",
    "N = 300;\n",
    "dx = 1 / (N + 1);\n",
    "\n",
    "e = ones(N);\n",
    "Dxx = spdiagm(-1 => e[1:N-1] , 0 => -2 * e  , 1 => e[1:N-1]);   # 1D central difference\n",
    "\n",
    "ident = Matrix{Float64}(I, N, N);\n",
    "x = kron(ident, Dxx) / (dx^2);  # 2nd derivative with respect to x\n",
    "\n",
    "Axx = kron(ident, Dxx) / (dx^2); # 2nd derivative with respect to x\n",
    "Ayy = kron(Dxx, ident) / (dx^2);  # 2nd derivative with respect to y\n",
    "\n",
    "Dx = spdiagm( -1 => e[1:N-1] , 1 => e[1:N-1]);  # 1D central difference\n",
    "Ax = kron(ident, Dx) / (2 * dx);\n",
    "\n",
    "I_2 = sparse(Matrix{Float64}(I, N*N, N*N));\n",
    "\n",
    "A = sparse(-Axx - Ayy - a * Ax - b * I_2);  # Matrix\n",
    "b = ones(N * N);  # Right-hand side\n",
    "u0 = 0.5 * ones(N * N);  # Initial guess"
   ]
  },
  {
   "cell_type": "markdown",
   "metadata": {},
   "source": [
    "1. Utilizar métodos directo LU y Choleski para matrices simétricas, y los métodos iterativos CG, BiCG , BiCGStab , GMRES , LGMRES, MINRES, QMR que encuentren en las librerías de Julia. Si encuentran otros , los aportan"
   ]
  },
  {
   "cell_type": "markdown",
   "metadata": {},
   "source": [
    "Metodos directos:"
   ]
  },
  {
   "cell_type": "markdown",
   "metadata": {},
   "source": [
    "a. LU"
   ]
  },
  {
   "cell_type": "code",
   "execution_count": 2,
   "metadata": {},
   "outputs": [
    {
     "ename": "UndefVarError",
     "evalue": "UndefVarError: `A` not defined",
     "output_type": "error",
     "traceback": [
      "UndefVarError: `A` not defined\n",
      "\n",
      "Stacktrace:\n",
      " [1] top-level scope\n",
      "   @ d:\\Escritorio\\Metodos Iterativos\\Tarea 1.ipynb:4"
     ]
    }
   ],
   "source": [
    "using LinearAlgebra\n",
    "\n",
    "#Calcular descomposicion LU\n",
    "lu_decomposition = lu(A);\n",
    "L = lu_decomposition.L;\n",
    "U = lu_decomposition.U;\n",
    "P = lu_decomposition.p;"
   ]
  },
  {
   "cell_type": "markdown",
   "metadata": {},
   "source": [
    "b. Choleski"
   ]
  },
  {
   "cell_type": "code",
   "execution_count": 3,
   "metadata": {},
   "outputs": [
    {
     "ename": "UndefVarError",
     "evalue": "UndefVarError: `A` not defined",
     "output_type": "error",
     "traceback": [
      "UndefVarError: `A` not defined\n",
      "\n",
      "Stacktrace:\n",
      " [1] top-level scope\n",
      "   @ d:\\Escritorio\\Metodos Iterativos\\Tarea 1.ipynb:2"
     ]
    }
   ],
   "source": [
    "using LinearAlgebra\n",
    "cholesky = Cholesky(A)"
   ]
  },
  {
   "cell_type": "markdown",
   "metadata": {},
   "source": [
    "Metodos iterativos:"
   ]
  },
  {
   "cell_type": "markdown",
   "metadata": {},
   "source": [
    "CG:"
   ]
  },
  {
   "cell_type": "code",
   "execution_count": 4,
   "metadata": {},
   "outputs": [
    {
     "ename": "UndefVarError",
     "evalue": "UndefVarError: `A` not defined",
     "output_type": "error",
     "traceback": [
      "UndefVarError: `A` not defined\n",
      "\n",
      "Stacktrace:\n",
      " [1] top-level scope\n",
      "   @ d:\\Escritorio\\Metodos Iterativos\\Tarea 1.ipynb:6"
     ]
    }
   ],
   "source": [
    "using IterativeSolvers\n",
    "using Plots\n",
    "using SparseArrays\n",
    "#\n",
    "x=zeros(length(b))\n",
    "x=cg(A,b);\n",
    "#println(\"solucion:\");\n",
    "#print(x)"
   ]
  },
  {
   "cell_type": "markdown",
   "metadata": {},
   "source": [
    "BiCG:"
   ]
  },
  {
   "cell_type": "code",
   "execution_count": 5,
   "metadata": {},
   "outputs": [
    {
     "ename": "UndefVarError",
     "evalue": "UndefVarError: `bicg` not defined",
     "output_type": "error",
     "traceback": [
      "UndefVarError: `bicg` not defined\n",
      "\n",
      "Stacktrace:\n",
      " [1] top-level scope\n",
      "   @ d:\\Escritorio\\Metodos Iterativos\\Tarea 1.ipynb:3"
     ]
    }
   ],
   "source": [
    "using IterativeSolvers\n",
    "#x0=zeros(length(b));\n",
    "x=bicg(A,b)"
   ]
  },
  {
   "cell_type": "markdown",
   "metadata": {},
   "source": [
    "BiCGStab"
   ]
  },
  {
   "cell_type": "code",
   "execution_count": 6,
   "metadata": {},
   "outputs": [
    {
     "ename": "UndefVarError",
     "evalue": "UndefVarError: `A` not defined",
     "output_type": "error",
     "traceback": [
      "UndefVarError: `A` not defined\n",
      "\n",
      "Stacktrace:\n",
      " [1] top-level scope\n",
      "   @ d:\\Escritorio\\Metodos Iterativos\\Tarea 1.ipynb:2"
     ]
    }
   ],
   "source": [
    "using IterativeSolvers\n",
    "x=bicgstabl(A,b)\n"
   ]
  },
  {
   "cell_type": "markdown",
   "metadata": {},
   "source": [
    "GMRES"
   ]
  },
  {
   "cell_type": "code",
   "execution_count": 7,
   "metadata": {},
   "outputs": [
    {
     "ename": "UndefVarError",
     "evalue": "UndefVarError: `A` not defined",
     "output_type": "error",
     "traceback": [
      "UndefVarError: `A` not defined\n",
      "\n",
      "Stacktrace:\n",
      " [1] top-level scope\n",
      "   @ d:\\Escritorio\\Metodos Iterativos\\Tarea 1.ipynb:3"
     ]
    }
   ],
   "source": [
    "using IterativeSolvers\n",
    "using SparseArrays\n",
    "A=sparse(A);\n",
    "\n",
    "#x0=zeros(length(b))\n",
    "x,info=gmres(A,b)"
   ]
  },
  {
   "cell_type": "markdown",
   "metadata": {},
   "source": [
    "LGMRES"
   ]
  },
  {
   "cell_type": "code",
   "execution_count": 8,
   "metadata": {},
   "outputs": [
    {
     "ename": "UndefVarError",
     "evalue": "UndefVarError: `lgmres` not defined",
     "output_type": "error",
     "traceback": [
      "UndefVarError: `lgmres` not defined\n",
      "\n",
      "Stacktrace:\n",
      " [1] top-level scope\n",
      "   @ d:\\Escritorio\\Metodos Iterativos\\Tarea 1.ipynb:3"
     ]
    }
   ],
   "source": [
    "using KrylovKit\n",
    "\n",
    "x=lgmres(A,b);"
   ]
  },
  {
   "cell_type": "markdown",
   "metadata": {},
   "source": [
    "MINRES"
   ]
  },
  {
   "cell_type": "code",
   "execution_count": 9,
   "metadata": {},
   "outputs": [
    {
     "ename": "UndefVarError",
     "evalue": "UndefVarError: `A` not defined",
     "output_type": "error",
     "traceback": [
      "UndefVarError: `A` not defined\n",
      "\n",
      "Stacktrace:\n",
      " [1] top-level scope\n",
      "   @ d:\\Escritorio\\Metodos Iterativos\\Tarea 1.ipynb:2"
     ]
    }
   ],
   "source": [
    "using IterativeSolvers\n",
    "x=minres(A,b);"
   ]
  },
  {
   "cell_type": "markdown",
   "metadata": {},
   "source": [
    "QMR"
   ]
  },
  {
   "cell_type": "code",
   "execution_count": 10,
   "metadata": {},
   "outputs": [
    {
     "ename": "UndefVarError",
     "evalue": "UndefVarError: `A` not defined",
     "output_type": "error",
     "traceback": [
      "UndefVarError: `A` not defined\n",
      "\n",
      "Stacktrace:\n",
      " [1] top-level scope\n",
      "   @ d:\\Escritorio\\Metodos Iterativos\\Tarea 1.ipynb:2"
     ]
    }
   ],
   "source": [
    "using IterativeSolvers\n",
    "x=qmr(A,b)"
   ]
  },
  {
   "cell_type": "markdown",
   "metadata": {},
   "source": [
    "2. Utilizar escenarios de N y α en base a la presentación . Utilizar el mayor N possible con tiempos esperables menos de una hora)."
   ]
  },
  {
   "cell_type": "code",
   "execution_count": 11,
   "metadata": {},
   "outputs": [],
   "source": []
  },
  {
   "cell_type": "markdown",
   "metadata": {},
   "source": [
    "3. Calcular tiempos y errores en base a las iteraciones de los métodos iterativos y comparer con los métodos directos"
   ]
  },
  {
   "cell_type": "code",
   "execution_count": 12,
   "metadata": {},
   "outputs": [],
   "source": []
  },
  {
   "cell_type": "markdown",
   "metadata": {},
   "source": [
    "4. Analizar los resultados y decidir el métodos más rápido y preciso para cada escenario de N y αα."
   ]
  },
  {
   "cell_type": "code",
   "execution_count": 13,
   "metadata": {},
   "outputs": [],
   "source": []
  },
  {
   "cell_type": "markdown",
   "metadata": {},
   "source": [
    "5. Encontrar las propiedades de las matrices generadas por la linearización en redes neuronales y proponer qué método sería el major para problemas de alta dimensionalidad ."
   ]
  },
  {
   "cell_type": "code",
   "execution_count": 14,
   "metadata": {},
   "outputs": [],
   "source": []
  }
 ],
 "metadata": {
  "kernelspec": {
   "display_name": "Julia 1.9.3",
   "language": "julia",
   "name": "julia-1.9"
  },
  "language_info": {
   "file_extension": ".jl",
   "mimetype": "application/julia",
   "name": "julia",
   "version": "1.9.3"
  },
  "orig_nbformat": 4
 },
 "nbformat": 4,
 "nbformat_minor": 2
}
