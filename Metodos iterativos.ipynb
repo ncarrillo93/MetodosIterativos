{
 "cells": [
  {
   "cell_type": "markdown",
   "metadata": {},
   "source": [
    "## 2. Resolución de Sistemas Lineales y comparación de métodos\n",
    "\n",
    "### Los métodos que utilizaremos están a continuación"
   ]
  },
  {
   "cell_type": "markdown",
   "metadata": {},
   "source": [
    "#### 2.5.3.2. Iterative Solvers\n",
    "#### the isolve module contains the following solvers:\n",
    "- bicg (BIConjugate Gradient)\n",
    "- bicgstab (BIConjugate Gradient STABilized)\n",
    "- cg (Conjugate Gradient) - symmetric positive definite matrices only\n",
    "- cgs (Conjugate Gradient Squared)\n",
    "- gmres (Generalized Minimal RESidual)\n",
    "- minres (MINimum RESidual)\n",
    "- qmr (Quasi-Minimal Residual)"
   ]
  },
  {
   "cell_type": "markdown",
   "metadata": {},
   "source": [
    "mandatory:\n",
    "\n",
    "A : {sparse matrix, dense matrix, LinearOperator}\n",
    "The N-by-N matrix of the linear system.\n",
    "\n",
    "b : {array, matrix}\n",
    "Right hand side of the linear system. Has shape (N,) or (N,1).\n",
    "\n",
    "optional:\n",
    "\n",
    "x0 : {array, matrix}\n",
    "Starting guess for the solution.\n",
    "\n",
    "tol : float\n",
    "Relative tolerance to achieve before terminating.\n",
    "\n",
    "maxiter : integer\n",
    "Maximum number of iterations. Iteration will stop after maxiter steps even if the specified tolerance has not been achieved.\n",
    "\n",
    "M : {sparse matrix, dense matrix, LinearOperator}\n",
    "Preconditioner for A. The preconditioner should approximate the inverse of A. Effective preconditioning dramatically improves the rate of convergence, which implies that fewer iterations are needed to reach a given error tolerance.\n",
    "\n",
    "callback : function\n",
    "User-supplied function to call after each iteration. It is called as callback(xk), where xk is the current solution vector."
   ]
  },
  {
   "cell_type": "code",
   "execution_count": null,
   "metadata": {},
   "outputs": [],
   "source": [
    "import numpy as np\n",
    "from scipy.sparse.linalg import LinearOperator\n",
    "def mv(v):\n",
    "    return np.array([2*v[0], 3*v[1]])\n",
    "\n",
    "A = LinearOperator((2, 2), matvec=mv)\n",
    "print(A)\n",
    "A.matvec(np.ones(2))\n",
    "A * np.ones(2)"
   ]
  },
  {
   "cell_type": "code",
   "execution_count": null,
   "metadata": {},
   "outputs": [],
   "source": [
    "## https://docs.scipy.org/doc/scipy/reference/sparse.linalg.html\n",
    "from scipy.sparse import csc_matrix\n",
    "\n",
    "#### BiCG\n",
    "from scipy.sparse.linalg import bicg\n",
    "xbicg, exitCode = bicg(A, b)\n",
    "#### BiCGStab\n",
    "from scipy.sparse.linalg import bicgstab\n",
    "xbicgstab, exitCode = bicgstab(A, b)\n",
    "# GMRES\n",
    "from scipy.sparse.linalg import gmres\n",
    "xgmres, exitCode = gmres(A, b)\n",
    "# LGMRES\n",
    "from scipy.sparse.linalg import lgmres\n",
    "xlgmres, exitCode = lgmres(A, b)\n",
    "# MINRES\n",
    "from scipy.sparse.linalg import minres\n",
    "xminres, exitCode = minres(A, b)\n",
    "# QMR\n",
    "from scipy.sparse.linalg import qmr\n",
    "xqmr, exitCode = qmr(A, b)"
   ]
  },
  {
   "cell_type": "markdown",
   "metadata": {},
   "source": [
    "### 2.1 GCROT\n",
    "### Averifuar en qué consiste este método y en qué casoss se recomienda\n",
    "\n",
    "#### scipy.sparse.linalg.gcrotmk(A, b, x0=None, tol=1e-05, maxiter=1000, M=None, callback=None, m=20, k=None, CU=None, discard_C=False, truncate='oldest', atol=None)[source]¶\n",
    "\n",
    "- E. de Sturler, ‘’Truncation strategies for optimal Krylov subspace methods’’, SIAM J. Numer. Anal. 36, 864 (1999).\n",
    "- J.E. Hicken and D.W. Zingg, ‘’A simplified and flexible variant of GCROT for solving nonsymmetric linear systems’’, SIAM J. Sci. Comput. 32, 172 (2010).\n",
    "- M.L. Parks, E. de Sturler, G. Mackey, D.D. Johnson, S. Maiti, ‘’Recycling Krylov subspaces for sequences of linear systems’’, SIAM J. Sci. Comput. 28, 1651 (2006)."
   ]
  },
  {
   "cell_type": "markdown",
   "metadata": {},
   "source": [
    "\n",
    "\n",
    "### 2.2 Comparación de Métodos Iterativos\n",
    "\n",
    "Consideramos el problema en $D=(0,1)\\times (0,1)$\n",
    "$$ \\beta\\cdot \\nabla u - \\epsilon \\Delta u=0,$$\n",
    "$$ \\beta=\\alpha (\\frac{\\sqrt{2}}{2},\\frac{\\sqrt{2}}{2})^T,$$\n",
    "condiciones de borde en $\\partial D$\n",
    "$$ u(x,y)=x^2+y^2,$$\n",
    "en una malla equiespaciada $h=\\frac{1}{N+1}$ de tamaño $N$\n",
    "$$x_k=kh, \\quad y_m=mh,$$\n",
    "con aproximaciones de las derivadas dadas por\n",
    "$$\\frac{\\partial^2 u}{\\partial x^2}\\approx \\frac{1}{h^2}\\big( u_{i+1,j} - 2 u_{ij} + u_{i-1,j}\\big), \\qquad \\frac{\\partial^2 u}{\\partial y^2}\\approx \\frac{1}{h^2}\\big(u_{i,j+1} - 2 u_{ij} + u_{i,j-1}\\big),\\$$\n",
    "\n",
    "$$ \\frac{\\partial u}{\\partial x}\\approx \\frac{1}{h}\\big(u_{ij} - u_{i-1,j}\\big), \\quad           \\frac{\\partial u}{\\partial y}\\approx \\frac{1}{h}\\big(u_{i,j+1} - u_{ij}\\big)$$\n",
    "y genera el sistema lineal\n",
    "$$ Au=b.$$"
   ]
  },
  {
   "cell_type": "code",
   "execution_count": null,
   "metadata": {},
   "outputs": [],
   "source": [
    "# Pregunta 6 (A. Meister Aufgabe 6)\n",
    "import numpy as np\n",
    "from scipy.sparse import diags\n",
    "import numpy.matlib\n",
    "import scipy.sparse.linalg as spla\n",
    "\n",
    "## Parameters\n",
    "a = 0.5;       # Advection parameter\n",
    "b = 2;         # Reaction parameter\n",
    "tol = 1e-6;    # Tolerance for stopping criterion\n",
    "maxit = 10000; # Maxium number of iterations\n",
    "   \n",
    "## Linear system\n",
    "N = 99;\n",
    "dx = 1/(N+1);\n",
    "   \n",
    "e = np.ones(N)\n",
    "Dxx=diags([e, -2*e, e], [-1, 0, 1], shape=(N, N)).toarray()\n",
    "#Dxx = spdiags([e -2*e e],[-1 0 1],N,N); # 1D central difference\n",
    "ident=np.matlib.identity(N, dtype=float)\n",
    "\n",
    "Axx = np.kron(ident,Dxx)/(dx**2);   # 2nd derivative with respect to x\n",
    "Ayy = np.kron(Dxx,ident)/(dx**2);   # 2nd derivative with respect to y\n",
    "   \n",
    "Dx= diags([e, e], [-1, 1], shape=(N, N)).toarray()\n",
    "#Dx = diags([-e e],[-1 1],N,N);         # 1D central difference\n",
    "Ax= np.kron(ident,Dx)/(2*dx);\n",
    "I = np.matlib.identity(N*N, dtype=float)\n",
    "A = -Axx - Ayy -a*Ax - b*I;               # Matrix   \n",
    "b = np.ones(N**2);                         # Right hand side\n",
    "u0 = 0.5*np.ones(N**2);                       # Initial guess"
   ]
  },
  {
   "cell_type": "code",
   "execution_count": 92,
   "metadata": {},
   "outputs": [
    {
     "name": "stdout",
     "output_type": "stream",
     "text": [
      "[[ 39998. -10025.      0. ...     -0.     -0.     -0.]\n",
      " [-10025.  39998. -10025. ...     -0.     -0.     -0.]\n",
      " [     0. -10025.  39998. ...     -0.     -0.     -0.]\n",
      " ...\n",
      " [    -0.     -0.     -0. ...  39998. -10025.      0.]\n",
      " [    -0.     -0.     -0. ... -10025.  39998. -10025.]\n",
      " [    -0.     -0.     -0. ...      0. -10025.  39998.]]\n"
     ]
    }
   ],
   "source": [
    "print(A)"
   ]
  },
  {
   "cell_type": "markdown",
   "metadata": {},
   "source": [
    "#### Ahora calculamos una solución óptima haciendo correr un método intensivamente. Aquí, tolerancia 1/10000 que entrega una solución estable de bajo error"
   ]
  },
  {
   "cell_type": "code",
   "execution_count": 48,
   "metadata": {},
   "outputs": [],
   "source": [
    "#\n",
    "# Aproximación de la solución óptima\n",
    "#\n",
    "xv, exitCode = gmres(A, b,x0=u0,tol=1/10000)\n",
    "print(xv)"
   ]
  },
  {
   "cell_type": "markdown",
   "metadata": {},
   "source": [
    "#### El trabajo consiste en hacer dos gráficas con todos los métodos en cada gráfica para compara los métodos cambiando el número de iteraciones y el error de aproximación (tolerancia)\n",
    "#### Para calcular los residuos, ejemplificamos con el método GMRES con las correspondientes dos gráficas para\n",
    "1. Cambiando el número de iteraciones\n",
    "2. Cambiando la tolerancia del error de aproximación "
   ]
  },
  {
   "cell_type": "code",
   "execution_count": 94,
   "metadata": {},
   "outputs": [
    {
     "name": "stdout",
     "output_type": "stream",
     "text": [
      "0 19.356809037683995\n",
      "10 11.88115524921087\n",
      "20 8.12439247477894\n",
      "30 5.627786708858102\n",
      "40 3.912396286940429\n",
      "50 2.7211548432044887\n",
      "60 1.8928884228728469\n",
      "70 1.31685381459222\n",
      "80 0.9161906291719276\n",
      "90 0.6374835773997481\n"
     ]
    }
   ],
   "source": [
    "#\n",
    "# Datos del método GMRES cambiando las iteraciones\n",
    "#\n",
    "from numpy import linalg as la\n",
    "dataplot=np.zeros((10,2))\n",
    "nxv=la.norm(xv)\n",
    "for k in range(10):\n",
    "   x, exitCode = gmres(A, b,x0=u0,maxiter=10*k)\n",
    "   print(10*k,la.norm(x-xv)/nxv)\n",
    "   dataplot[k,0]=k\n",
    "   dataplot[k,1]=la.norm(x-xv)/nxv"
   ]
  },
  {
   "cell_type": "code",
   "execution_count": 95,
   "metadata": {},
   "outputs": [
    {
     "data": {
      "image/png": "[encoded data removed]",
      "text/plain": [
       "<Figure size 576x432 with 1 Axes>"
      ]
     },
     "metadata": {
      "needs_background": "light"
     },
     "output_type": "display_data"
    }
   ],
   "source": [
    "B= [val[1] for val in dataplot]\n",
    "newdata = np.squeeze(B)\n",
    "fig, ax = plt.subplots(figsize=(8, 6))\n",
    "fig.subplots_adjust(bottom=0.15, left=0.2)\n",
    "ax.plot(newdata)\n",
    "ax.set_xlabel('Iteraciones')\n",
    "ax.set_ylabel('% residuo')\n",
    "plt.show()"
   ]
  },
  {
   "cell_type": "code",
   "execution_count": null,
   "metadata": {},
   "outputs": [],
   "source": [
    "#\n",
    "# Datos del método GMRES cambiando la tolerancia\n",
    "#\n",
    "dataplot=np.zeros((10,2))\n",
    "nxv=la.norm(xv)\n",
    "for k in range(10):\n",
    "   x, exitCode = gmres(A, b,x0=u0,tol=1/((k+1)*100))\n",
    "   print(1/((k+1)*100),la.norm(x-xv)/nxv)\n",
    "   dataplot[k,0]=1/((k+1)*100)\n",
    "   dataplot[k,1]=la.norm(x-xv)/nxv"
   ]
  },
  {
   "cell_type": "code",
   "execution_count": null,
   "metadata": {},
   "outputs": [],
   "source": [
    "B= [val[1] for val in dataplot]\n",
    "newdata = np.squeeze(B)\n",
    "fig, ax = plt.subplots(figsize=(8, 6))\n",
    "fig.subplots_adjust(bottom=0.15, left=0.2)\n",
    "ax.plot(newdata)\n",
    "ax.set_xlabel('tolerancia 1/(100*k)')\n",
    "ax.set_ylabel('% residuo')\n",
    "plt.show()"
   ]
  }
 ],
 "metadata": {
  "kernelspec": {
   "display_name": "Python 3 (ipykernel)",
   "language": "python",
   "name": "python3"
  },
  "language_info": {
   "codemirror_mode": {
    "name": "ipython",
    "version": 3
   },
   "file_extension": ".py",
   "mimetype": "text/x-python",
   "name": "python",
   "nbconvert_exporter": "python",
   "pygments_lexer": "ipython3",
   "version": "3.10.9"
  }
 },
 "nbformat": 4,
 "nbformat_minor": 2
}
